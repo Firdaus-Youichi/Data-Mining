{
 "cells": [
  {
   "cell_type": "code",
   "execution_count": 1,
   "id": "bafea1ce-0466-4b59-9caa-f0c2584e9a97",
   "metadata": {},
   "outputs": [],
   "source": [
    "import numpy as np\n",
    "import matplotlib.pyplot as plt\n",
    "import pandas as pd"
   ]
  },
  {
   "cell_type": "code",
   "execution_count": 2,
   "id": "66ca444f-e6a5-47b9-8a5c-420ef8ed055b",
   "metadata": {},
   "outputs": [],
   "source": [
    "dataset = pd.read_csv('DataGaji.csv')\n",
    "x = dataset.iloc[:, :-1].values\n",
    "y = dataset.iloc[:, -1].values"
   ]
  },
  {
   "cell_type": "code",
   "execution_count": 3,
   "id": "76a559df-dbd8-4f8b-af40-e2efe932d5de",
   "metadata": {},
   "outputs": [
    {
     "name": "stdout",
     "output_type": "stream",
     "text": [
      "[['Bandung' 35.0 3400000.0]\n",
      " ['Bogor' nan 6100000.0]\n",
      " ['Cirebon' 42.0 6500000.0]\n",
      " ['Bandung' nan 4900000.0]\n",
      " ['Bogor' 40.0 6400000.0]\n",
      " ['Bandung' 35.0 nan]\n",
      " ['Bandung' 30.0 7200000.0]\n",
      " ['Cirebon' 48.0 4800000.0]\n",
      " ['Cirebon' 39.0 5200000.0]\n",
      " ['Bandung' 48.0 5400000.0]\n",
      " ['Bandung' 37.0 6700000.0]\n",
      " ['Cirebon' 44.0 4300000.0]\n",
      " ['Bogor' 38.0 nan]\n",
      " ['Bogor' 45.0 8300000.0]\n",
      " ['Cirebon' 30.0 nan]]\n"
     ]
    }
   ],
   "source": [
    "print(x)"
   ]
  },
  {
   "cell_type": "code",
   "execution_count": 4,
   "id": "d8a44f3c-2145-450f-a7ca-701c11095ce6",
   "metadata": {},
   "outputs": [
    {
     "name": "stdout",
     "output_type": "stream",
     "text": [
      "['Sudah' 'Belum' 'Belum' 'Belum' 'Sudah' 'Sudah' 'Belum' 'Sudah' 'Belum'\n",
      " 'Sudah' 'Sudah' 'Sudah' 'Belum' 'Belum' 'Sudah']\n"
     ]
    }
   ],
   "source": [
    "print(y)"
   ]
  },
  {
   "cell_type": "code",
   "execution_count": 6,
   "id": "d6c49879-f016-41da-8403-f9a13aeaaabb",
   "metadata": {},
   "outputs": [],
   "source": [
    "from sklearn.impute import SimpleImputer\n",
    "imputer = SimpleImputer(missing_values=np.nan, strategy='mean')\n",
    "imputer.fit(x[:, 1:3])\n",
    "x[:, 1:3] = imputer.transform(x[:, 1:3])"
   ]
  },
  {
   "cell_type": "code",
   "execution_count": 7,
   "id": "a60cb69a-a7a0-4887-b7ad-3bed59abcab5",
   "metadata": {},
   "outputs": [
    {
     "name": "stdout",
     "output_type": "stream",
     "text": [
      "[['Bandung' 35.0 3400000.0]\n",
      " ['Bogor' 39.30769230769231 6100000.0]\n",
      " ['Cirebon' 42.0 6500000.0]\n",
      " ['Bandung' 39.30769230769231 4900000.0]\n",
      " ['Bogor' 40.0 6400000.0]\n",
      " ['Bandung' 35.0 5766666.666666667]\n",
      " ['Bandung' 30.0 7200000.0]\n",
      " ['Cirebon' 48.0 4800000.0]\n",
      " ['Cirebon' 39.0 5200000.0]\n",
      " ['Bandung' 48.0 5400000.0]\n",
      " ['Bandung' 37.0 6700000.0]\n",
      " ['Cirebon' 44.0 4300000.0]\n",
      " ['Bogor' 38.0 5766666.666666667]\n",
      " ['Bogor' 45.0 8300000.0]\n",
      " ['Cirebon' 30.0 5766666.666666667]]\n"
     ]
    }
   ],
   "source": [
    "print(x)"
   ]
  },
  {
   "cell_type": "code",
   "execution_count": 12,
   "id": "a7503b1e-8ed3-497d-8a2d-96884b4cd95a",
   "metadata": {},
   "outputs": [],
   "source": [
    "from sklearn.compose import ColumnTransformer\n",
    "from sklearn.preprocessing import OneHotEncoder\n",
    "ct = ColumnTransformer(transformers=[('encoder', OneHotEncoder(), [0])], remainder='passthrough')\n",
    "x = np.array(ct.fit_transform(x))                    "
   ]
  },
  {
   "cell_type": "code",
   "execution_count": 13,
   "id": "e18e97b7-5363-4494-a5be-0f74512d9a12",
   "metadata": {},
   "outputs": [
    {
     "name": "stdout",
     "output_type": "stream",
     "text": [
      "[[1.0 0.0 0.0 35.0 3400000.0]\n",
      " [0.0 1.0 0.0 39.30769230769231 6100000.0]\n",
      " [0.0 0.0 1.0 42.0 6500000.0]\n",
      " [1.0 0.0 0.0 39.30769230769231 4900000.0]\n",
      " [0.0 1.0 0.0 40.0 6400000.0]\n",
      " [1.0 0.0 0.0 35.0 5766666.666666667]\n",
      " [1.0 0.0 0.0 30.0 7200000.0]\n",
      " [0.0 0.0 1.0 48.0 4800000.0]\n",
      " [0.0 0.0 1.0 39.0 5200000.0]\n",
      " [1.0 0.0 0.0 48.0 5400000.0]\n",
      " [1.0 0.0 0.0 37.0 6700000.0]\n",
      " [0.0 0.0 1.0 44.0 4300000.0]\n",
      " [0.0 1.0 0.0 38.0 5766666.666666667]\n",
      " [0.0 1.0 0.0 45.0 8300000.0]\n",
      " [0.0 0.0 1.0 30.0 5766666.666666667]]\n"
     ]
    }
   ],
   "source": [
    "print(x)"
   ]
  },
  {
   "cell_type": "code",
   "execution_count": 14,
   "id": "693dca5f-77f9-41bf-8782-962f2d20427f",
   "metadata": {},
   "outputs": [],
   "source": [
    "from sklearn.preprocessing import LabelEncoder\n",
    "le = LabelEncoder()\n",
    "y = le.fit_transform(y)"
   ]
  },
  {
   "cell_type": "code",
   "execution_count": 15,
   "id": "8b9e932d-9cd5-4d00-b7fe-1f629ec3d771",
   "metadata": {},
   "outputs": [
    {
     "name": "stdout",
     "output_type": "stream",
     "text": [
      "[1 0 0 0 1 1 0 1 0 1 1 1 0 0 1]\n"
     ]
    }
   ],
   "source": [
    "print(y)"
   ]
  },
  {
   "cell_type": "code",
   "execution_count": 18,
   "id": "e12ac531-5b8f-4a7a-9f9b-1da589d8937e",
   "metadata": {},
   "outputs": [],
   "source": [
    "from sklearn.model_selection import train_test_split\n",
    "x_train, x_test, y_train, y_test = train_test_split(x, y, test_size = 0.2, random_state = 1)"
   ]
  },
  {
   "cell_type": "code",
   "execution_count": 19,
   "id": "4058a8d2-074b-4a8c-8c12-1708a4942763",
   "metadata": {},
   "outputs": [
    {
     "name": "stdout",
     "output_type": "stream",
     "text": [
      "[[0.0 0.0 1.0 42.0 6500000.0]\n",
      " [1.0 0.0 0.0 37.0 6700000.0]\n",
      " [0.0 1.0 0.0 40.0 6400000.0]\n",
      " [0.0 1.0 0.0 39.30769230769231 6100000.0]\n",
      " [0.0 1.0 0.0 45.0 8300000.0]\n",
      " [1.0 0.0 0.0 35.0 3400000.0]\n",
      " [0.0 0.0 1.0 30.0 5766666.666666667]\n",
      " [1.0 0.0 0.0 48.0 5400000.0]\n",
      " [0.0 0.0 1.0 39.0 5200000.0]\n",
      " [0.0 1.0 0.0 38.0 5766666.666666667]\n",
      " [0.0 0.0 1.0 44.0 4300000.0]\n",
      " [1.0 0.0 0.0 35.0 5766666.666666667]]\n"
     ]
    }
   ],
   "source": [
    "print(x_train)"
   ]
  },
  {
   "cell_type": "code",
   "execution_count": 20,
   "id": "a689917d-b168-4e05-ad3d-ea5708e44db2",
   "metadata": {},
   "outputs": [
    {
     "name": "stdout",
     "output_type": "stream",
     "text": [
      "[[1.0 0.0 0.0 39.30769230769231 4900000.0]\n",
      " [0.0 0.0 1.0 48.0 4800000.0]\n",
      " [1.0 0.0 0.0 30.0 7200000.0]]\n"
     ]
    }
   ],
   "source": [
    "print(x_test)"
   ]
  },
  {
   "cell_type": "code",
   "execution_count": 21,
   "id": "f2fc3244-e2fe-4599-845b-ec66e1e4e249",
   "metadata": {},
   "outputs": [
    {
     "name": "stdout",
     "output_type": "stream",
     "text": [
      "[0 1 1 0 0 1 1 1 0 0 1 1]\n"
     ]
    }
   ],
   "source": [
    "print(y_train)"
   ]
  },
  {
   "cell_type": "code",
   "execution_count": 23,
   "id": "38a0e322-ab50-48b2-88ed-46aebcb457de",
   "metadata": {},
   "outputs": [],
   "source": [
    "from sklearn.preprocessing import StandardScaler\n",
    "sc = StandardScaler()\n",
    "x_train[:, 3:] = sc.fit_transform(x_train[:, 3:])\n",
    "x_test[:, 3:] = sc.transform(x_test[:, 3:])"
   ]
  },
  {
   "cell_type": "code",
   "execution_count": 24,
   "id": "28a63e7e-6315-4924-9fec-a1324ac03421",
   "metadata": {},
   "outputs": [
    {
     "name": "stdout",
     "output_type": "stream",
     "text": [
      "[[0.0 0.0 1.0 0.5582799333500841 0.5963599259594181]\n",
      " [1.0 0.0 0.0 -0.4986578045457057 0.7667484762335376]\n",
      " [0.0 1.0 0.0 0.1355048381917682 0.5111656508223583]\n",
      " [0.0 1.0 0.0 -0.010840387055341395 0.25558282541117916]\n",
      " [0.0 1.0 0.0 1.1924425760875579 2.129856878426493]\n",
      " [1.0 0.0 0.0 -0.9214328997040215 -2.0446626032894333]\n",
      " [0.0 0.0 1.0 -1.9783706375998114 -0.02839809171235298]\n",
      " [1.0 0.0 0.0 1.826605218825032 -0.3407771005482389]\n",
      " [0.0 0.0 1.0 -0.07588270938738977 -0.5111656508223583]\n",
      " [0.0 1.0 0.0 -0.28727025696654773 -0.02839809171235298]\n",
      " [0.0 0.0 1.0 0.9810550285084 -1.277914127055896]\n",
      " [1.0 0.0 0.0 -0.9214328997040215 -0.02839809171235298]]\n"
     ]
    }
   ],
   "source": [
    "print(x_train)"
   ]
  },
  {
   "cell_type": "code",
   "execution_count": 25,
   "id": "fb7ae125-99ba-4535-bf3a-5452e82e91c7",
   "metadata": {},
   "outputs": [
    {
     "name": "stdout",
     "output_type": "stream",
     "text": [
      "[[1.0 0.0 0.0 -0.010840387055341395 -0.7667484762335376]\n",
      " [0.0 0.0 1.0 1.826605218825032 -0.8519427513705973]\n",
      " [1.0 0.0 0.0 -1.9783706375998114 1.1927198519188362]]\n"
     ]
    }
   ],
   "source": [
    "print(x_test)"
   ]
  },
  {
   "cell_type": "code",
   "execution_count": null,
   "id": "b3c58404-4160-490e-a13c-1dd59832fc8d",
   "metadata": {},
   "outputs": [],
   "source": []
  }
 ],
 "metadata": {
  "kernelspec": {
   "display_name": "Python 3 (ipykernel)",
   "language": "python",
   "name": "python3"
  },
  "language_info": {
   "codemirror_mode": {
    "name": "ipython",
    "version": 3
   },
   "file_extension": ".py",
   "mimetype": "text/x-python",
   "name": "python",
   "nbconvert_exporter": "python",
   "pygments_lexer": "ipython3",
   "version": "3.12.2"
  }
 },
 "nbformat": 4,
 "nbformat_minor": 5
}
